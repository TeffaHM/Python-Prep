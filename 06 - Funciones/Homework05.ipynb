{
 "cells": [
  {
   "cell_type": "markdown",
   "metadata": {},
   "source": [
    "1) Crear una función que reciba un número como parámetro y devuelva si True si es primo y False si no lo es"
   ]
  },
  {
   "cell_type": "code",
   "execution_count": 61,
   "metadata": {},
   "outputs": [
    {
     "data": {
      "text/plain": [
       "'El número insertado 2 es primo'"
      ]
     },
     "execution_count": 61,
     "metadata": {},
     "output_type": "execute_result"
    }
   ],
   "source": [
    "def Esprimo(num):\n",
    "    primo = True\n",
    "    for div in range (2,num):\n",
    "        if num % div == 0:\n",
    "            primo = False\n",
    "    if primo:\n",
    "        return \"El número insertado \"+  str(num) + \" es primo\"\n",
    "    else:\n",
    "        return \"El número insertado \"+  str(num) + \" no es primo\"\n",
    "Esprimo(2)"
   ]
  },
  {
   "cell_type": "code",
   "execution_count": 63,
   "metadata": {},
   "outputs": [
    {
     "data": {
      "text/plain": [
       "True"
      ]
     },
     "execution_count": 63,
     "metadata": {},
     "output_type": "execute_result"
    }
   ],
   "source": [
    "#Clase\n",
    "def verifica_primo(nro):\n",
    "    es_primo = True\n",
    "    for i in range(2, nro):\n",
    "        if nro % i == 0:\n",
    "            es_primo = False\n",
    "            break\n",
    "    return es_primo\n",
    "verifica_primo(3)"
   ]
  },
  {
   "cell_type": "code",
   "execution_count": 64,
   "metadata": {},
   "outputs": [
    {
     "data": {
      "text/plain": [
       "True"
      ]
     },
     "execution_count": 64,
     "metadata": {},
     "output_type": "execute_result"
    }
   ],
   "source": [
    "def Esprimo(num):\n",
    "    primo = True\n",
    "    for div in range (2,num):\n",
    "        if num % div == 0:\n",
    "            primo = False\n",
    "    if primo:\n",
    "        return True\n",
    "    else:\n",
    "        return False\n",
    "Esprimo(2)"
   ]
  },
  {
   "cell_type": "markdown",
   "metadata": {},
   "source": [
    "\n",
    "2) Utilizando la función del punto 1, realizar otra función que reciba de parámetro una lista de números y devuelva sólo aquellos que son primos en otra lista"
   ]
  },
  {
   "cell_type": "code",
   "execution_count": 65,
   "metadata": {},
   "outputs": [
    {
     "name": "stdout",
     "output_type": "stream",
     "text": [
      "La nueva lista con solo números primos es: [1, 2, 3, 13, 11, 29, 37]\n"
     ]
    }
   ],
   "source": [
    "def ElementosPrimos(lista1):\n",
    "    if type(lista1) == list:\n",
    "        lista1_modif = []\n",
    "        for elemento in lista1:\n",
    "            if (Esprimo(elemento)):\n",
    "                lista1_modif.append(elemento)\n",
    "        print(\"La nueva lista con solo números primos es:\", lista1_modif)\n",
    "    else:\n",
    "        print(\"Colocar como parámetro una lista\")\n",
    "\n",
    "ElementosPrimos([1,2,3,6,4,8,13,11,29,37])"
   ]
  },
  {
   "cell_type": "code",
   "execution_count": null,
   "metadata": {},
   "outputs": [
    {
     "name": "stdout",
     "output_type": "stream",
     "text": [
      "Colocar como parámetro una lista\n"
     ]
    }
   ],
   "source": [
    "ElementosPrimos(\"Holis\")"
   ]
  },
  {
   "cell_type": "markdown",
   "metadata": {},
   "source": [
    "3) Crear una función que al recibir una lista de números, devuelva el que más se repite y cuántas veces lo hace. Si hay más de un \"más repetido\", que devuelva cualquiera"
   ]
  },
  {
   "cell_type": "code",
   "execution_count": 69,
   "metadata": {},
   "outputs": [],
   "source": [
    "def Contador(lista2):\n",
    "    if type(lista2) == list:\n",
    "        repeticion = 0\n",
    "        \n",
    "        for elemento in lista2:\n",
    "            repeticion2 = lista2.count(elemento)\n",
    "            if repeticion2 > repeticion:\n",
    "                repeticion = repeticion2\n",
    "                \n",
    "                nummayorrepeticion = elemento\n",
    "        print(\"El numero que más es\", nummayorrepeticion, \"y se repite la siguiente cantidad\", repeticion)\n",
    "    else:\n",
    "        print(\"Colocar como parámetro una lista\")"
   ]
  },
  {
   "cell_type": "code",
   "execution_count": 71,
   "metadata": {},
   "outputs": [],
   "source": [
    "#Clse\n",
    "\n",
    "def Contador(lista2):\n",
    "    if type(lista2) == list:\n",
    "        repeticion = 0\n",
    "        \n",
    "        for elemento in lista2:\n",
    "            repeticion2 = lista2.count(elemento)\n",
    "            if repeticion2 > repeticion:\n",
    "                repeticion = repeticion2\n",
    "                \n",
    "                nummayorrepeticion = elemento\n",
    "        return nummayorrepeticion,  repeticion\n",
    "    else:\n",
    "        print(\"Colocar como parámetro una lista\")"
   ]
  },
  {
   "cell_type": "code",
   "execution_count": 72,
   "metadata": {},
   "outputs": [
    {
     "data": {
      "text/plain": [
       "(5, 3)"
      ]
     },
     "execution_count": 72,
     "metadata": {},
     "output_type": "execute_result"
    }
   ],
   "source": [
    "Contador([1,6,5,8,13, 5, 29, 29, 29,5])\n"
   ]
  },
  {
   "cell_type": "code",
   "execution_count": null,
   "metadata": {},
   "outputs": [
    {
     "name": "stdout",
     "output_type": "stream",
     "text": [
      "[[1, 1], [6, 1], [5, 3], [8, 1], [13, 1], [5, 3], [29, 3], [29, 3], [29, 3], [5, 3]]\n"
     ]
    }
   ],
   "source": [
    "def Contador(lista2):\n",
    "    if type(lista2) == list:\n",
    "        repeticion = 0\n",
    "        listarepeticiones =[]\n",
    "        for elemento in lista2:\n",
    "            listarepeticiones.append([elemento, lista2.count(elemento)])\n",
    "                      \n",
    "        print(listarepeticiones)\n",
    "    else:\n",
    "        print(\"Colocar como parámetro una lista\")\n",
    "Contador([1,6,5,8,13, 5, 29, 29, 29,5])"
   ]
  },
  {
   "cell_type": "code",
   "execution_count": 56,
   "metadata": {},
   "outputs": [
    {
     "data": {
      "text/plain": [
       "3"
      ]
     },
     "execution_count": 56,
     "metadata": {},
     "output_type": "execute_result"
    }
   ],
   "source": [
    "def ContadorMayor(lista2):\n",
    "    if type(lista2) == list:\n",
    "        repeticion = 0\n",
    "        for elemento in lista2:\n",
    "            repeticion2 = lista2.count(elemento)\n",
    "            if repeticion2 > repeticion:\n",
    "                repeticion = repeticion2\n",
    "                \n",
    "                nummayorrepeticion = elemento\n",
    "        return repeticion\n",
    "    else:\n",
    "        print(\"Colocar como parámetro una lista\")\n",
    "ContadorMayor([1,6,5,8,13, 5, 29, 29, 29,5])"
   ]
  },
  {
   "cell_type": "code",
   "execution_count": 68,
   "metadata": {},
   "outputs": [
    {
     "name": "stdout",
     "output_type": "stream",
     "text": [
      "[5, 5, 29, 29, 29, 5]\n"
     ]
    }
   ],
   "source": [
    "def Contador(lista2):\n",
    "    if type(lista2) == list:\n",
    "        repeticion = 0\n",
    "        listarepeticiones =[]\n",
    "        numanterior = 0\n",
    "        numrepetidos = []\n",
    "        for elemento in lista2:\n",
    "            listarepeticiones.append([elemento, lista2.count(elemento)])\n",
    "        \n",
    "        for elemento in listarepeticiones:\n",
    "                \n",
    "            if (elemento[1] == ContadorMayor(lista2)):\n",
    "                numrepetidos.append(elemento[0])\n",
    "                        \n",
    "        print(numrepetidos)\n",
    "    else:\n",
    "        print(\"Colocar como parámetro una lista\")\n",
    "Contador([1,6,5,8,13, 5, 29, 29, 29,5])"
   ]
  },
  {
   "cell_type": "code",
   "execution_count": 74,
   "metadata": {},
   "outputs": [],
   "source": [
    "def valor_modal(lista):\n",
    "    lista_unicos = []\n",
    "    lista_repeticiones = []\n",
    "    if len(lista) == 0:\n",
    "        return None\n",
    "    for elemento in lista:\n",
    "        if elemento in lista_unicos:\n",
    "            i = lista_unicos.index(elemento)\n",
    "            lista_repeticiones[i] += 1\n",
    "        else:\n",
    "            lista_unicos.append(elemento)\n",
    "            lista_repeticiones.append(1)\n",
    "    moda = lista_unicos[0]\n",
    "    maximo = lista_repeticiones[0]\n",
    "    for i, elemento in enumerate(lista_unicos):\n",
    "        if lista_repeticiones[i] > maximo:\n",
    "            moda = lista_unicos[i]\n",
    "            maximo = lista_repeticiones[i]\n",
    "    return moda, maximo"
   ]
  },
  {
   "cell_type": "code",
   "execution_count": 75,
   "metadata": {},
   "outputs": [
    {
     "data": {
      "text/plain": [
       "(2, 4)"
      ]
     },
     "execution_count": 75,
     "metadata": {},
     "output_type": "execute_result"
    }
   ],
   "source": [
    "valor_modal([1,1,1,2,2,2,3,5,6,4,5,5,5,2])"
   ]
  },
  {
   "cell_type": "code",
   "execution_count": 76,
   "metadata": {},
   "outputs": [],
   "source": [
    "def valor_modal(lista, menor):\n",
    "    '''\n",
    "    Esta función devuelve el valor modal y recibe de parámetros dos valores:\n",
    "    1-Una lista de números\n",
    "    2-Verdadero (por defecto) por si se requiere el mínimo de los más repetidos, o Falso si se requiere el máximo\n",
    "    '''\n",
    "    lista_unicos = []\n",
    "    lista_repeticiones = []\n",
    "    if len(lista) == 0:\n",
    "        return None\n",
    "    if (menor):\n",
    "        lista.sort()\n",
    "    else:\n",
    "        lista.sort(reverse=True)\n",
    "    for elemento in lista:\n",
    "        if elemento in lista_unicos:\n",
    "            i = lista_unicos.index(elemento)\n",
    "            lista_repeticiones[i] += 1\n",
    "        else:\n",
    "            lista_unicos.append(elemento)\n",
    "            lista_repeticiones.append(1)\n",
    "    moda = lista_unicos[0]\n",
    "    maximo = lista_repeticiones[0]\n",
    "    for i, elemento in enumerate(lista_unicos):\n",
    "        if lista_repeticiones[i] > maximo:\n",
    "            moda = lista_unicos[i]\n",
    "            maximo = lista_repeticiones[i]\n",
    "    return moda, maximo"
   ]
  },
  {
   "cell_type": "code",
   "execution_count": 77,
   "metadata": {},
   "outputs": [
    {
     "name": "stdout",
     "output_type": "stream",
     "text": [
      "El valor modal es 5 y se repite 3 veces.\n"
     ]
    }
   ],
   "source": [
    "lis = [10,1,5,6,8,10,22,5,6,4,11,10,9,5]\n",
    "moda, repite = valor_modal(lis, True)\n",
    "print('El valor modal es', moda, 'y se repite', repite, 'veces.')"
   ]
  },
  {
   "cell_type": "markdown",
   "metadata": {},
   "source": [
    "\n",
    "4) A la función del punto 3, agregar un parámetro más, que permita elegir si se requiere el menor o el mayor de los mas repetidos."
   ]
  },
  {
   "cell_type": "code",
   "execution_count": 55,
   "metadata": {},
   "outputs": [
    {
     "data": {
      "text/plain": [
       "1"
      ]
     },
     "execution_count": 55,
     "metadata": {},
     "output_type": "execute_result"
    }
   ],
   "source": [
    "def ContadorMenor(lista2):\n",
    "    if type(lista2) == list:\n",
    "        repeticion = 1\n",
    "        for elemento in lista2:\n",
    "            repeticion2 = lista2.count(elemento)\n",
    "            if repeticion2 <= repeticion:\n",
    "                repeticion = repeticion2\n",
    "                \n",
    "                nummenorrepeticion = elemento\n",
    "        return repeticion\n",
    "    else:\n",
    "        print(\"Colocar como parámetro una lista\")\n",
    "ContadorMenor([1,6,5,8,13, 5, 29, 29, 29,5])"
   ]
  },
  {
   "cell_type": "code",
   "execution_count": 51,
   "metadata": {},
   "outputs": [
    {
     "ename": "ValueError",
     "evalue": "list.remove(x): x not in list",
     "output_type": "error",
     "traceback": [
      "\u001b[1;31m---------------------------------------------------------------------------\u001b[0m",
      "\u001b[1;31mValueError\u001b[0m                                Traceback (most recent call last)",
      "\u001b[1;32mc:\\Users\\Jhoel\\Desktop\\CURSOS\\Henry\\Python-Prep\\06 - Funciones\\Homework05.ipynb Cell 15'\u001b[0m in \u001b[0;36m<cell line: 23>\u001b[1;34m()\u001b[0m\n\u001b[0;32m     <a href='vscode-notebook-cell:/c%3A/Users/Jhoel/Desktop/CURSOS/Henry/Python-Prep/06%20-%20Funciones/Homework05.ipynb#ch0000023?line=20'>21</a>\u001b[0m     \u001b[39melse\u001b[39;00m:\n\u001b[0;32m     <a href='vscode-notebook-cell:/c%3A/Users/Jhoel/Desktop/CURSOS/Henry/Python-Prep/06%20-%20Funciones/Homework05.ipynb#ch0000023?line=21'>22</a>\u001b[0m         \u001b[39mprint\u001b[39m(\u001b[39m\"\u001b[39m\u001b[39mColocar como parámetro una lista\u001b[39m\u001b[39m\"\u001b[39m)\n\u001b[1;32m---> <a href='vscode-notebook-cell:/c%3A/Users/Jhoel/Desktop/CURSOS/Henry/Python-Prep/06%20-%20Funciones/Homework05.ipynb#ch0000023?line=22'>23</a>\u001b[0m sinrepeticiones ([\u001b[39m1\u001b[39;49m,\u001b[39m6\u001b[39;49m,\u001b[39m5\u001b[39;49m,\u001b[39m8\u001b[39;49m,\u001b[39m13\u001b[39;49m, \u001b[39m5\u001b[39;49m, \u001b[39m29\u001b[39;49m, \u001b[39m29\u001b[39;49m, \u001b[39m29\u001b[39;49m,\u001b[39m5\u001b[39;49m])\n",
      "\u001b[1;32mc:\\Users\\Jhoel\\Desktop\\CURSOS\\Henry\\Python-Prep\\06 - Funciones\\Homework05.ipynb Cell 15'\u001b[0m in \u001b[0;36msinrepeticiones\u001b[1;34m(lista4)\u001b[0m\n\u001b[0;32m     <a href='vscode-notebook-cell:/c%3A/Users/Jhoel/Desktop/CURSOS/Henry/Python-Prep/06%20-%20Funciones/Homework05.ipynb#ch0000023?line=11'>12</a>\u001b[0m         i \u001b[39m+\u001b[39m\u001b[39m=\u001b[39m\u001b[39m1\u001b[39m     \n\u001b[0;32m     <a href='vscode-notebook-cell:/c%3A/Users/Jhoel/Desktop/CURSOS/Henry/Python-Prep/06%20-%20Funciones/Homework05.ipynb#ch0000023?line=12'>13</a>\u001b[0m     \u001b[39mif\u001b[39;00m lista4\u001b[39m.\u001b[39mcount(elemento) \u001b[39m>\u001b[39m \u001b[39m1\u001b[39m:\n\u001b[1;32m---> <a href='vscode-notebook-cell:/c%3A/Users/Jhoel/Desktop/CURSOS/Henry/Python-Prep/06%20-%20Funciones/Homework05.ipynb#ch0000023?line=13'>14</a>\u001b[0m         lista_modificable \u001b[39m=\u001b[39m lista_modificable\u001b[39m.\u001b[39;49mremove(valorv)\n\u001b[0;32m     <a href='vscode-notebook-cell:/c%3A/Users/Jhoel/Desktop/CURSOS/Henry/Python-Prep/06%20-%20Funciones/Homework05.ipynb#ch0000023?line=14'>15</a>\u001b[0m         listasinrepeticiones\u001b[39m.\u001b[39mappend(elemento)\n\u001b[0;32m     <a href='vscode-notebook-cell:/c%3A/Users/Jhoel/Desktop/CURSOS/Henry/Python-Prep/06%20-%20Funciones/Homework05.ipynb#ch0000023?line=18'>19</a>\u001b[0m \u001b[39mprint\u001b[39m(listasinrepeticiones)\n",
      "\u001b[1;31mValueError\u001b[0m: list.remove(x): x not in list"
     ]
    }
   ],
   "source": [
    "\n",
    "#No funcionó def sinrepeticiones(lista4):\n",
    "def sinrepeticiones(lista4):    \n",
    "    if type(lista4) == list:    \n",
    "        \n",
    "        listasinrepeticiones = []\n",
    "        lista_modificable = [lista4[0]]\n",
    "        i=0\n",
    "        for elemento in lista4:\n",
    "            valorv = elemento\n",
    "            if lista4.count(elemento) == 1: \n",
    "                listasinrepeticiones.append(elemento)\n",
    "                \n",
    "            if lista4.count(elemento) > 1:\n",
    "                lista_modificable = lista_modificable.remove(valorv)\n",
    "                listasinrepeticiones.append(elemento)\n",
    "                \n",
    "            \n",
    "               \n",
    "        print(listasinrepeticiones)\n",
    "                        \n",
    "    else:\n",
    "        print(\"Colocar como parámetro una lista\")\n",
    "sinrepeticiones ([1,6,5,8,13, 5, 29, 29, 29,5])"
   ]
  },
  {
   "cell_type": "code",
   "execution_count": 57,
   "metadata": {},
   "outputs": [
    {
     "name": "stdout",
     "output_type": "stream",
     "text": [
      "[29, 5]\n"
     ]
    }
   ],
   "source": [
    "def Contador(lista2, mayoromenor):\n",
    "    if type(lista2) == list:\n",
    "        repeticion = 0\n",
    "        listarepeticiones =[]\n",
    "        numanterior = 0\n",
    "        numrepetidosmayores = []\n",
    "        numrepetidosmenores = []\n",
    "        for elemento in lista2:\n",
    "            listarepeticiones.append([elemento, lista2.count(elemento)])\n",
    "        \n",
    "        for elemento in listarepeticiones:\n",
    "                \n",
    "            if (elemento[1] == ContadorMayor(lista2)):\n",
    "                numrepetidosmayores.append(elemento[0])\n",
    "        for elemento in listarepeticiones:\n",
    "                \n",
    "            if (elemento[1] == ContadorMenor(lista2)):\n",
    "                numrepetidosmenores.append(elemento[0])\n",
    "        if mayoromenor == \"mayor\":\n",
    "            print(list(set(numrepetidosmayores)))\n",
    "        else:\n",
    "            print(list(set(numrepetidosmenores)))\n",
    "    else:\n",
    "        print(\"Colocar como parámetro una lista\")\n",
    "Contador([1,6,5,8,13, 5, 29, 29, 29,5], \"mayor\")"
   ]
  },
  {
   "cell_type": "markdown",
   "metadata": {},
   "source": [
    "\n",
    "5) Crear una función que convierta entre grados Celsius, Farenheit y Kelvin<br>\n",
    "Fórmula 1\t: (°C × 9/5) + 32 = °F<br>\n",
    "Fórmula 2\t: °C + 273.15 = °K<br>\n",
    "Debe recibir 3 parámetros: el valor, la medida de orígen y la medida de destino"
   ]
  },
  {
   "cell_type": "code",
   "execution_count": 59,
   "metadata": {},
   "outputs": [
    {
     "data": {
      "text/plain": [
       "343.4"
      ]
     },
     "execution_count": 59,
     "metadata": {},
     "output_type": "execute_result"
    }
   ],
   "source": [
    "def convertir(valor, medidaorig,medidadest):\n",
    "    if medidaorig == medidadest:\n",
    "        return valor\n",
    "    elif medidaorig == \"Celsius\" and medidadest == \"Farenheit\":\n",
    "        return  valor * 9/5 + 32\n",
    "    elif medidaorig == \"Celsius\" and medidadest == \"Kelvin\":\n",
    "        return  valor + 273.15\n",
    "    elif medidaorig == \"Farenheit\" and medidadest == \"Celsius\":\n",
    "        return (valor  - 32)*5/9\n",
    "    elif medidaorig == \"Farenheit\" and medidadest == \"Kelvin\":\n",
    "        return (valor  - 32)*5/9 + 273.15\n",
    "    elif medidaorig == \"Kelvin\" and medidadest == \"Celsius\":\n",
    "        return valor - 273.15\n",
    "    else: \n",
    "        return (valor -  273.15)  * 9/5 + 32\n",
    "convertir(173, \"Celsius\",\"Farenheit\")"
   ]
  },
  {
   "cell_type": "markdown",
   "metadata": {},
   "source": [
    "\n",
    "\n",
    "6) Iterando una lista con los tres valores posibles de temperatura que recibe la función del punto 5, hacer un print para cada combinación de los mismos:"
   ]
  },
  {
   "cell_type": "code",
   "execution_count": 60,
   "metadata": {},
   "outputs": [
    {
     "name": "stdout",
     "output_type": "stream",
     "text": [
      "1 grado Celsius a Celsius : 1\n",
      "1 grado Celsius a Farenheit : 33.8\n",
      "1 grado Celsius a Kelvin : 274.15\n",
      "1 grado Farenheit a Celsius : -17.22222222222222\n",
      "1 grado Farenheit a Farenheit : 1\n",
      "1 grado Farenheit a Kelvin : 255.92777777777775\n",
      "1 grado Kelvin a Celsius : -272.15\n",
      "1 grado Kelvin a Farenheit : -457.87\n",
      "1 grado Kelvin a Kelvin : 1\n"
     ]
    }
   ],
   "source": [
    "lista =[\"Celsius\", \"Farenheit\", \"Kelvin\"]\n",
    "for i in range(0,3):\n",
    "    for j in range(0,3):\n",
    "        print('1 grado', lista[i], 'a', lista[j],':', convertir(1, lista[i], lista[j]))"
   ]
  },
  {
   "cell_type": "markdown",
   "metadata": {},
   "source": [
    "7) Armar una función que devuelva el factorial de un número. Tener en cuenta que el usuario puede equivocarse y enviar de parámetro un número no entero o negativo"
   ]
  },
  {
   "cell_type": "code",
   "execution_count": 67,
   "metadata": {},
   "outputs": [
    {
     "data": {
      "text/plain": [
       "720"
      ]
     },
     "execution_count": 67,
     "metadata": {},
     "output_type": "execute_result"
    }
   ],
   "source": [
    "def factorial(num):\n",
    "    if type(num) == int:\n",
    "        numfinal = num\n",
    "        factorial =1\n",
    "        while numfinal>=1:\n",
    "            factorial *= numfinal\n",
    "            numfinal -= 1\n",
    "        return factorial\n",
    "    else:\n",
    "        print(\"Colocar un valor entero\")\n",
    "factorial(6)"
   ]
  }
 ],
 "metadata": {
  "interpreter": {
   "hash": "b717e7ccee213df7c70027723cbad9682e1a7250517d9ea512f55bca89ec4bd3"
  },
  "kernelspec": {
   "display_name": "Python 3.10.2 64-bit",
   "language": "python",
   "name": "python3"
  },
  "language_info": {
   "codemirror_mode": {
    "name": "ipython",
    "version": 3
   },
   "file_extension": ".py",
   "mimetype": "text/x-python",
   "name": "python",
   "nbconvert_exporter": "python",
   "pygments_lexer": "ipython3",
   "version": "3.10.2"
  },
  "orig_nbformat": 4
 },
 "nbformat": 4,
 "nbformat_minor": 2
}
