{
 "cells": [
  {
   "cell_type": "markdown",
   "metadata": {},
   "source": [
    "1) Crear una variable que contenga un elemento del conjunto de números enteros y luego imprimir por pantalla si es mayor o menor a cero"
   ]
  },
  {
   "cell_type": "code",
   "execution_count": 1,
   "metadata": {},
   "outputs": [
    {
     "name": "stdout",
     "output_type": "stream",
     "text": [
      "El número es mayor a cero\n"
     ]
    }
   ],
   "source": [
    "b = 5\n",
    "if (b > 0):\n",
    "    print(\"El número es mayor a cero\")\n",
    "else:\n",
    "    print(\"El númer es menor a cero\")\n",
    "\n"
   ]
  },
  {
   "cell_type": "markdown",
   "metadata": {},
   "source": [
    "2) Crear dos variables y un condicional que informe si son del mismo tipo de dato"
   ]
  },
  {
   "cell_type": "code",
   "execution_count": 4,
   "metadata": {},
   "outputs": [
    {
     "name": "stdout",
     "output_type": "stream",
     "text": [
      "Las variables no son de mismo tipo de dato\n"
     ]
    }
   ],
   "source": [
    "a= \"Hola\"\n",
    "c=0\n",
    "if (type(a)==type(c)):\n",
    "    print(\"Las variable son el mismo tipo de dato\")\n",
    "else:\n",
    "    print(\"Las variables no son de mismo tipo de dato\")\n"
   ]
  },
  {
   "cell_type": "markdown",
   "metadata": {},
   "source": [
    "3) Para los valores enteros del 1 al 20, imprimir por pantalla si es par o impar"
   ]
  },
  {
   "cell_type": "code",
   "execution_count": 48,
   "metadata": {},
   "outputs": [
    {
     "name": "stdout",
     "output_type": "stream",
     "text": [
      "1 es impar\n",
      "2 es par\n",
      "3 es impar\n",
      "4 es par\n",
      "5 es impar\n",
      "6 es par\n",
      "7 es impar\n",
      "8 es par\n",
      "9 es impar\n",
      "10 es par\n",
      "11 es impar\n",
      "12 es par\n",
      "13 es impar\n",
      "14 es par\n",
      "15 es impar\n",
      "16 es par\n",
      "17 es impar\n",
      "18 es par\n",
      "19 es impar\n",
      "20 es par\n"
     ]
    }
   ],
   "source": [
    "for n in range (1, 21):\n",
    "    if (n % 2 == 0):\n",
    "        print(str(n) +\" es par\")\n",
    "    else:\n",
    "        print(str(n) +\" es impar\")"
   ]
  },
  {
   "cell_type": "code",
   "execution_count": 51,
   "metadata": {},
   "outputs": [
    {
     "name": "stdout",
     "output_type": "stream",
     "text": [
      "1  es impar\n",
      "2  es par\n",
      "3  es impar\n",
      "4  es par\n",
      "5  es impar\n",
      "6  es par\n",
      "7  es impar\n",
      "8  es par\n",
      "9  es impar\n",
      "10  es par\n",
      "11  es impar\n",
      "12  es par\n",
      "13  es impar\n",
      "14  es par\n",
      "15  es impar\n",
      "16  es par\n",
      "17  es impar\n",
      "18  es par\n",
      "19  es impar\n",
      "20  es par\n"
     ]
    }
   ],
   "source": [
    "for n in range (1, 21):\n",
    "    if (n % 2 == 0):\n",
    "        print(n, \" es par\")\n",
    "    else:\n",
    "        print(n,\" es impar\")"
   ]
  },
  {
   "cell_type": "markdown",
   "metadata": {},
   "source": [
    "4) En un ciclo for mostrar para los valores entre 0 y 5 el resultado de elevarlo a la potencia igual a 3\n"
   ]
  },
  {
   "cell_type": "code",
   "execution_count": 52,
   "metadata": {},
   "outputs": [
    {
     "name": "stdout",
     "output_type": "stream",
     "text": [
      "0\n",
      "1\n",
      "8\n",
      "27\n",
      "64\n",
      "125\n"
     ]
    }
   ],
   "source": [
    "for n in range (0,6):\n",
    "    print(n**3)"
   ]
  },
  {
   "cell_type": "markdown",
   "metadata": {},
   "source": [
    "5) Crear una variable que contenga un número entero y realizar un ciclo for la misma cantidad de ciclos"
   ]
  },
  {
   "cell_type": "code",
   "execution_count": 9,
   "metadata": {},
   "outputs": [
    {
     "name": "stdout",
     "output_type": "stream",
     "text": [
      "Este es un ciclo\n",
      "Este es un ciclo\n",
      "Este es un ciclo\n",
      "Este es un ciclo\n",
      "Este es un ciclo\n"
     ]
    }
   ],
   "source": [
    "d = 5\n",
    "for f in range (0,d):\n",
    "    print(\"Este es un ciclo\")"
   ]
  },
  {
   "cell_type": "markdown",
   "metadata": {},
   "source": [
    "6) Utilizar un ciclo while para realizar el factorial de un número guardado en una variable, sólo si la variable contiene un número entero mayor a 0"
   ]
  },
  {
   "cell_type": "code",
   "execution_count": 62,
   "metadata": {},
   "outputs": [
    {
     "name": "stdout",
     "output_type": "stream",
     "text": [
      "El factorial de 6 es 720\n"
     ]
    }
   ],
   "source": [
    "n = 6\n",
    "factorial = 1\n",
    "if (type (n) == int):\n",
    "    if (n>0):\n",
    "        n_original=n\n",
    "        while (n>=1):\n",
    "            factorial *=n\n",
    "            n -=1\n",
    "        print(\"El factorial de\", n_original, \"es\",factorial)\n",
    "    else:\n",
    "        print (\"La variable debe ser mayor a cero\")\n",
    "else:\n",
    "    print (\"La variable debe ser un número entero\")\n"
   ]
  },
  {
   "cell_type": "markdown",
   "metadata": {},
   "source": [
    "7) Crear un ciclo for dentro de un ciclo while"
   ]
  },
  {
   "cell_type": "code",
   "execution_count": 15,
   "metadata": {},
   "outputs": [
    {
     "name": "stdout",
     "output_type": "stream",
     "text": [
      "1\n",
      "2\n",
      "3\n",
      "4\n"
     ]
    }
   ],
   "source": [
    "while (True):\n",
    "    for n in range (1,5):\n",
    "        print (n)\n",
    "    break\n"
   ]
  },
  {
   "cell_type": "markdown",
   "metadata": {},
   "source": [
    "8) Crear un ciclo while dentro de un ciclo for"
   ]
  },
  {
   "cell_type": "code",
   "execution_count": 29,
   "metadata": {},
   "outputs": [
    {
     "name": "stdout",
     "output_type": "stream",
     "text": [
      "4\n",
      "3\n",
      "2\n",
      "1\n",
      "24\n"
     ]
    }
   ],
   "source": [
    "fac = 1\n",
    "a = 4\n",
    "for n in range (1,a+1):\n",
    "    \n",
    "    while (a>=1):\n",
    "        print (a)\n",
    "        fac *= a\n",
    "        a -= 1\n",
    "print (fac)      \n",
    "    "
   ]
  },
  {
   "cell_type": "markdown",
   "metadata": {},
   "source": [
    "9) Imprimir los números primos existentes entre 0 y 30"
   ]
  },
  {
   "cell_type": "code",
   "execution_count": 39,
   "metadata": {},
   "outputs": [
    {
     "name": "stdout",
     "output_type": "stream",
     "text": [
      "2\n",
      "3\n",
      "5\n",
      "7\n",
      "11\n",
      "13\n",
      "17\n",
      "19\n",
      "23\n",
      "29\n"
     ]
    }
   ],
   "source": [
    "for n in range (0,30):\n",
    "    if (n != 1  and n %2 != 0 and n %3 != 0 and n %5 != 0 and n %7 != 0):\n",
    "        print (n)\n",
    "    if ( n == 2 or n == 3 or n == 5 or n == 7):\n",
    "        print (n)\n"
   ]
  },
  {
   "cell_type": "code",
   "execution_count": 5,
   "metadata": {},
   "outputs": [
    {
     "name": "stdout",
     "output_type": "stream",
     "text": [
      "0 es primo\n",
      "1 es primo\n",
      "2 es primo\n",
      "3 es primo\n",
      "4 no es primo\n",
      "5 es primo\n",
      "6 no es primo\n",
      "7 es primo\n",
      "8 no es primo\n",
      "9 no es primo\n",
      "10 no es primo\n",
      "11 es primo\n",
      "12 no es primo\n",
      "13 es primo\n",
      "14 no es primo\n",
      "15 no es primo\n",
      "16 no es primo\n",
      "17 es primo\n",
      "18 no es primo\n",
      "19 es primo\n",
      "20 no es primo\n",
      "21 no es primo\n",
      "22 no es primo\n",
      "23 es primo\n",
      "24 no es primo\n",
      "25 no es primo\n",
      "26 no es primo\n",
      "27 no es primo\n",
      "28 no es primo\n",
      "29 es primo\n",
      "378\n"
     ]
    }
   ],
   "source": [
    "tope_rango=30\n",
    "cantidad_ciclos = 0\n",
    "n = 0\n",
    "primo = True\n",
    "while (n < tope_rango):\n",
    "    for div in range(2, n):\n",
    "        cantidad_ciclos += 1\n",
    "        if (n % div == 0):\n",
    "            primo = False\n",
    "    if (primo):\n",
    "        print(n, \"es primo\")\n",
    "    else:\n",
    "        primo = True\n",
    "        print(n, \"no es primo\")\n",
    "    n += 1\n",
    "    \n",
    "print(cantidad_ciclos)"
   ]
  },
  {
   "cell_type": "markdown",
   "metadata": {},
   "source": [
    "10) ¿Se puede mejorar el proceso del punto 9? Utilizar las sentencias break y/ó continue para tal fin"
   ]
  },
  {
   "cell_type": "code",
   "execution_count": 41,
   "metadata": {},
   "outputs": [
    {
     "name": "stdout",
     "output_type": "stream",
     "text": [
      "2\n",
      "3\n",
      "5\n",
      "7\n",
      "11\n",
      "13\n",
      "17\n",
      "19\n",
      "23\n",
      "29\n"
     ]
    }
   ],
   "source": [
    "for n in range (0,30):\n",
    "    if (n != 1  and n %2 != 0 and n %3 != 0 and n %5 != 0 and n %7 != 0) or (n == 2 or n == 3 or n == 5 or n == 7):\n",
    "        print (n)\n",
    "        \n",
    "    "
   ]
  },
  {
   "cell_type": "code",
   "execution_count": 6,
   "metadata": {},
   "outputs": [
    {
     "name": "stdout",
     "output_type": "stream",
     "text": [
      "0 es primo\n",
      "1 es primo\n",
      "2 es primo\n",
      "3 es primo\n",
      "4 no es primo\n",
      "5 es primo\n",
      "6 no es primo\n",
      "7 es primo\n",
      "8 no es primo\n",
      "9 no es primo\n",
      "10 no es primo\n",
      "11 es primo\n",
      "12 no es primo\n",
      "13 es primo\n",
      "14 no es primo\n",
      "15 no es primo\n",
      "16 no es primo\n",
      "17 es primo\n",
      "18 no es primo\n",
      "19 es primo\n",
      "20 no es primo\n",
      "21 no es primo\n",
      "22 no es primo\n",
      "23 es primo\n",
      "24 no es primo\n",
      "25 no es primo\n",
      "26 no es primo\n",
      "27 no es primo\n",
      "28 no es primo\n",
      "29 es primo\n",
      "134\n"
     ]
    }
   ],
   "source": [
    "cantidad_ciclos = 0\n",
    "tope_rango=30\n",
    "n = 0\n",
    "primo = True\n",
    "while (n < tope_rango):\n",
    "    for div in range(2, n):\n",
    "        cantidad_ciclos += 1\n",
    "        if (n % div == 0):\n",
    "            primo = False\n",
    "            break\n",
    "    if (primo):\n",
    "        print(n, \"es primo\")\n",
    "    else:\n",
    "        primo = True\n",
    "        print(n, \"no es primo\")\n",
    "    n += 1\n",
    "    \n",
    "print(cantidad_ciclos)"
   ]
  },
  {
   "cell_type": "markdown",
   "metadata": {},
   "source": [
    "11) En los puntos 9 y 10, se diseño un código que encuentra números primos y además se lo optimizó. ¿Es posible saber en qué medida se optimizó?\n",
    "\n"
   ]
  },
  {
   "cell_type": "code",
   "execution_count": null,
   "metadata": {},
   "outputs": [],
   "source": [
    "#Menos iteraciones con el break"
   ]
  },
  {
   "cell_type": "markdown",
   "metadata": {},
   "source": [
    "12) Si la cantidad de números que se evalúa es mayor a treinta, esa optimización crece?\n"
   ]
  },
  {
   "cell_type": "code",
   "execution_count": null,
   "metadata": {},
   "outputs": [],
   "source": [
    "#Sí, ya que son menos iteraciones"
   ]
  },
  {
   "cell_type": "markdown",
   "metadata": {},
   "source": [
    "13) Aplicando continue, armar un ciclo while que solo imprima los valores divisibles por 12, dentro del rango de números de 100 a 300\n",
    "\n"
   ]
  },
  {
   "cell_type": "code",
   "execution_count": 7,
   "metadata": {},
   "outputs": [
    {
     "name": "stdout",
     "output_type": "stream",
     "text": [
      "108 es divisible por 12\n",
      "120 es divisible por 12\n",
      "132 es divisible por 12\n",
      "144 es divisible por 12\n",
      "156 es divisible por 12\n",
      "168 es divisible por 12\n",
      "180 es divisible por 12\n",
      "192 es divisible por 12\n",
      "204 es divisible por 12\n",
      "216 es divisible por 12\n",
      "228 es divisible por 12\n",
      "240 es divisible por 12\n",
      "252 es divisible por 12\n",
      "264 es divisible por 12\n",
      "276 es divisible por 12\n",
      "288 es divisible por 12\n",
      "300 es divisible por 12\n"
     ]
    }
   ],
   "source": [
    "n =99\n",
    "while (n<=300):\n",
    "    n += 1\n",
    "    if (n % 12 !=0):\n",
    "        continue\n",
    "    print(n, \"es divisible por 12\")"
   ]
  },
  {
   "cell_type": "markdown",
   "metadata": {},
   "source": [
    "14) Utilizar la función **input()** que permite hacer ingresos por teclado, para encontrar números primos y dar la opción al usario de buscar el siguiente\n",
    "\n"
   ]
  },
  {
   "cell_type": "code",
   "execution_count": 8,
   "metadata": {},
   "outputs": [],
   "source": [
    "a = input(\"Ingrese el valor\")"
   ]
  },
  {
   "cell_type": "code",
   "execution_count": 10,
   "metadata": {},
   "outputs": [
    {
     "name": "stdout",
     "output_type": "stream",
     "text": [
      "<class 'str'>\n"
     ]
    }
   ],
   "source": [
    "print(type(a))"
   ]
  },
  {
   "cell_type": "code",
   "execution_count": null,
   "metadata": {},
   "outputs": [],
   "source": [
    "n = 1\n",
    "sigue = 1\n",
    "primo = True\n",
    "while (sigue == 1):\n",
    "    for div in range(2, n):\n",
    "        if (n % div == 0):\n",
    "            primo = False\n",
    "            break\n",
    "    if (primo):\n",
    "        print(n)\n",
    "        print('¿Desea encontrar el siguiente número primo?')\n",
    "        if (input() != '1'):\n",
    "            print('Se finaliza el proceso')\n",
    "            break\n",
    "    else:\n",
    "        primo = True\n",
    "    n += 1"
   ]
  },
  {
   "cell_type": "markdown",
   "metadata": {},
   "source": [
    "15) Crear un ciclo while que encuentre dentro del rango de 100 a 300 el primer número divisible por 3 y además múltiplo de 6"
   ]
  },
  {
   "cell_type": "code",
   "execution_count": null,
   "metadata": {},
   "outputs": [],
   "source": []
  }
 ],
 "metadata": {
  "interpreter": {
   "hash": "b717e7ccee213df7c70027723cbad9682e1a7250517d9ea512f55bca89ec4bd3"
  },
  "kernelspec": {
   "display_name": "Python 3.10.2 64-bit",
   "language": "python",
   "name": "python3"
  },
  "language_info": {
   "codemirror_mode": {
    "name": "ipython",
    "version": 3
   },
   "file_extension": ".py",
   "mimetype": "text/x-python",
   "name": "python",
   "nbconvert_exporter": "python",
   "pygments_lexer": "ipython3",
   "version": "3.10.2"
  },
  "orig_nbformat": 4
 },
 "nbformat": 4,
 "nbformat_minor": 2
}
